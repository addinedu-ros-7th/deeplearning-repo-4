{
 "cells": [
  {
   "cell_type": "code",
   "execution_count": 1,
   "metadata": {},
   "outputs": [],
   "source": [
    "import cv2\n",
    "from ultralytics import YOLO"
   ]
  },
  {
   "cell_type": "code",
   "execution_count": 2,
   "metadata": {},
   "outputs": [],
   "source": [
    "# yolov8s 모델 사용\n",
    "model = YOLO('yolov8n.pt')"
   ]
  },
  {
   "cell_type": "code",
   "execution_count": null,
   "metadata": {},
   "outputs": [],
   "source": [
    "from roboflow import Roboflow\n",
    "\n",
    "rf = Roboflow(api_key=\"\")  # Roboflow 계정의 API 키\n",
    "project = rf.workspace().project(\"knife_object\")  # 프로젝트 이름\n",
    "dataset = project.version(1).download(\"yolov8\")  # YOLOv8 형식으로 다운로드"
   ]
  },
  {
   "cell_type": "code",
   "execution_count": null,
   "metadata": {},
   "outputs": [],
   "source": [
    "# 2. 학습 수행\n",
    "model.train(\n",
    "    data=\"/home/zeus/ws/AEGISVISION/src/weapon_detect_model/knife_object-1/data.yaml\",  # Roboflow에서 다운로드한 data.yaml 경로\n",
    "    epochs=120,                        # 학습 반복 횟수\n",
    "    batch=16,                         # 배치 크기\n",
    "    imgsz=640                         # 이미지 크기\n",
    ")\n",
    "\n",
    "# 3. 학습 완료된 모델 저장\n",
    "model_path = \"runs/detect/train/weights/best.pt\"  # 학습된 모델 경로"
   ]
  },
  {
   "cell_type": "code",
   "execution_count": null,
   "metadata": {},
   "outputs": [],
   "source": [
    "# 3. 학습 완료된 모델 저장\n",
    "#model_path = \"/home/zeus/ws/AEGISVISION/src/weapon_detect_model/runs/detect/train/weights/best.pt\"  # 학습된 모델 경로"
   ]
  },
  {
   "cell_type": "code",
   "execution_count": null,
   "metadata": {},
   "outputs": [],
   "source": [
    "model = YOLO(\"/home/zeus/ws/AEGISVISION/src/weapon_detect_model/runs/detect/train/weights/best.pt\")\n",
    "\n",
    "# 테스트 데이터로 평가\n",
    "results = model.val(data=\"/home/zeus/ws/AEGISVISION/src/weapon_detect_model/knife_object-1/data.yaml\")\n",
    "\n",
    "# 평가 결과 출력\n",
    "print(dir(results))  # Precision, Recall, mAP 등"
   ]
  },
  {
   "cell_type": "code",
   "execution_count": null,
   "metadata": {},
   "outputs": [],
   "source": [
    "print(results)"
   ]
  },
  {
   "cell_type": "code",
   "execution_count": 7,
   "metadata": {},
   "outputs": [],
   "source": [
    "import cv2\n",
    "from ultralytics import YOLO\n",
    "\n",
    "# 학습된 모델 로드\n",
    "model = YOLO(\"/home/zeus/ws/AEGISVISION/src/weapon_detect_model/runs/detect/train/weights/best.pt\")"
   ]
  },
  {
   "cell_type": "code",
   "execution_count": null,
   "metadata": {},
   "outputs": [],
   "source": [
    "# 이미지 파일 경로\n",
    "image_path = \"/home/hun/ws/yolov8/image/knife15.png\"\n",
    "\n",
    "# 객체 탐지 수행\n",
    "result = model.predict(source=image_path, save=True, conf=0.5)\n",
    "\n",
    "plots = result[0].plot()\n",
    "cv2.imshow(\"plot\", plots)\n",
    "cv2.waitKey(0)\n",
    "cv2.destroyAllWindows()"
   ]
  },
  {
   "cell_type": "code",
   "execution_count": null,
   "metadata": {},
   "outputs": [],
   "source": [
    "# 객체 탐지 수행\n",
    "result = model.predict(source=image_path, save=True, conf=0.5)\n",
    "\n",
    "plots = result[0].plot()\n",
    "cv2.imshow(\"plot\", plots)\n",
    "cv2.waitKey(0)\n",
    "cv2.destroyAllWindows()"
   ]
  },
  {
   "cell_type": "code",
   "execution_count": null,
   "metadata": {},
   "outputs": [],
   "source": [
    "import cv2\n",
    "from ultralytics import YOLO\n",
    "\n",
    "# YOLO 모델 로드\n",
    "model = YOLO(\"/home/zeus/ws/AEGISVISION/src/weapon_detect_model/runs/detect/train/weights/best.pt\")\n",
    "\n",
    "# 웹캠 또는 비디오 파일 읽기 (0은 기본 웹캠을 의미)\n",
    "cap = cv2.VideoCapture(0)  # 비디오 파일을 사용하려면 \"video.mp4\"와 같은 파일 경로를 입력\n",
    "\n",
    "# 비디오 캡처 확인\n",
    "if not cap.isOpened():\n",
    "    print(\"Error: Cannot access the camera or video file.\")\n",
    "    exit()\n",
    "\n",
    "while True:\n",
    "    ret, frame = cap.read()\n",
    "    if not ret:\n",
    "        print(\"Error: Cannot read frame.\")\n",
    "        break\n",
    "\n",
    "    # YOLO 모델을 사용하여 객체 탐지 수행\n",
    "    results = model(frame)\n",
    "\n",
    "    # 탐지 결과를 프레임에 표시\n",
    "    for result in results:\n",
    "        # 탐지된 객체의 정보를 반복\n",
    "        for box in result.boxes:\n",
    "            # 바운딩 박스 좌표 및 클래스 정보 추출\n",
    "            x1, y1, x2, y2 = map(int, box.xyxy[0].tolist())  # 좌표\n",
    "            conf = box.conf[0]  # 신뢰도\n",
    "            cls = int(box.cls[0])  # 클래스 인덱스\n",
    "            label = model.names[cls]  # 클래스 이름\n",
    "\n",
    "            # 바운딩 박스 그리기\n",
    "            cv2.rectangle(frame, (x1, y1), (x2, y2), (0, 255, 0), 2)\n",
    "            # 클래스 이름 및 신뢰도 표시\n",
    "            cv2.putText(\n",
    "                frame,\n",
    "                f\"{label} {conf:.2f}\",\n",
    "                (x1, y1 - 10),\n",
    "                cv2.FONT_HERSHEY_SIMPLEX,\n",
    "                0.5,\n",
    "                (0, 255, 0),\n",
    "                2,\n",
    "            )\n",
    "\n",
    "    # 결과 프레임을 OpenCV 창에 표시\n",
    "    cv2.imshow(\"YOLO Object Detection\", frame)\n",
    "\n",
    "    # 'q' 키를 누르면 종료\n",
    "    if cv2.waitKey(1) & 0xFF == ord('q'):\n",
    "        break\n",
    "\n",
    "# 자원 해제\n",
    "cap.release()\n",
    "cv2.destroyAllWindows()\n"
   ]
  }
 ],
 "metadata": {
  "kernelspec": {
   "display_name": "gpu_dl",
   "language": "python",
   "name": "python3"
  },
  "language_info": {
   "codemirror_mode": {
    "name": "ipython",
    "version": 3
   },
   "file_extension": ".py",
   "mimetype": "text/x-python",
   "name": "python",
   "nbconvert_exporter": "python",
   "pygments_lexer": "ipython3",
   "version": "3.10.12"
  }
 },
 "nbformat": 4,
 "nbformat_minor": 2
}
