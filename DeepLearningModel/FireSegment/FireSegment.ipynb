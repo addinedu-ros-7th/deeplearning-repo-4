{
 "cells": [
  {
   "cell_type": "code",
   "execution_count": null,
   "metadata": {},
   "outputs": [],
   "source": [
    "from ultralytics import YOLO\n",
    "\n",
    "# YOLO 모델 로드\n",
    "model = YOLO(\"yolov8n-seg.pt\")  # yolov8n-segment 모델을 로드합니다.\n",
    "\n",
    "# 훈련 시작\n",
    "model.train(data=\"/home/wani/Downloads/firelighter/data.yaml\", epochs=100, imgsz=640, project=\"/home/wani/Downloads/firelighter\")"
   ]
  },
  {
   "cell_type": "code",
   "execution_count": null,
   "metadata": {},
   "outputs": [],
   "source": [
    "import matplotlib.pyplot as plt\n",
    "\n",
    "# Simulated values for precision, recall, F1-Score, and accuracy based on the provided image context\n",
    "precision = 0.90  # Example precision for Fire Segmentation\n",
    "recall = 0.85     # Example recall for Fire Segmentation\n",
    "f1_score = 2 * (precision * recall) / (precision + recall)  # Calculate F1-Score\n",
    "accuracy = 0.87   # Example accuracy for Fire Segmentation\n",
    "\n",
    "# Metrics dictionary\n",
    "metrics = {\n",
    "    \"Precision\": precision,\n",
    "    \"Recall\": recall,\n",
    "    \"F1-Score\": f1_score,\n",
    "    \"Accuracy\": accuracy\n",
    "}\n",
    "\n",
    "# Plotting the metrics as a bar chart\n",
    "plt.figure(figsize=(8, 5))\n",
    "bars = plt.bar(metrics.keys(), metrics.values(), color=['blue', 'orange', 'green', 'red'], edgecolor='black', alpha=0.7)\n",
    "\n",
    "# Adding value annotations\n",
    "for bar in bars:\n",
    "    plt.text(bar.get_x() + bar.get_width() / 2, bar.get_height() - 0.03, f\"{bar.get_height():.2f}\", ha='center', color='black')\n",
    "\n",
    "plt.ylim(0, 1)  # Set y-axis range to 0-1\n",
    "plt.title('Fire Segmentation Metrics')\n",
    "plt.ylabel('Metric Value')\n",
    "plt.xlabel('Metrics')\n",
    "plt.grid(axis='y', linestyle='--', alpha=0.7)\n",
    "plt.tight_layout()\n",
    "plt.show()"
   ]
  },
  {
   "cell_type": "code",
   "execution_count": null,
   "metadata": {},
   "outputs": [],
   "source": []
  }
 ],
 "metadata": {
  "kernelspec": {
   "display_name": "yolov3",
   "language": "python",
   "name": "python3"
  },
  "language_info": {
   "codemirror_mode": {
    "name": "ipython",
    "version": 3
   },
   "file_extension": ".py",
   "mimetype": "text/x-python",
   "name": "python",
   "nbconvert_exporter": "python",
   "pygments_lexer": "ipython3",
   "version": "3.10.12"
  }
 },
 "nbformat": 4,
 "nbformat_minor": 2
}
