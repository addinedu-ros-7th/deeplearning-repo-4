{
 "cells": [
  {
   "cell_type": "code",
   "execution_count": 1,
   "metadata": {},
   "outputs": [],
   "source": [
    "import cv2\n",
    "\n",
    "filepath = '/home/wani/yolov3/mydata/fall_down_pose/0hoon_fall/0hoon_fall.mp4'\n",
    "video = cv2.VideoCapture(filepath) #해당 위치에 있는 동영상을 video라는 변수에 불러옴\n",
    "\n",
    "# video가 잘 로드 되었는지 확인\n",
    "if not video.isOpened():\n",
    "    print(\"Video is unavailable :\", filepath)\n",
    "    exit(0) # 아니면 코드 종료"
   ]
  },
  {
   "cell_type": "code",
   "execution_count": null,
   "metadata": {},
   "outputs": [],
   "source": [
    "import cv2\n",
    "\n",
    "filepath = '/home/wani/yolov3/mydata/fall_down_pose/0hoon_fall/0hoon_fall.mp4'\n",
    "video = cv2.VideoCapture(filepath)\n",
    "\n",
    "if not video.isOpened():\n",
    "    print(\"Video is unavailable :\", filepath)\n",
    "    exit(0)\n",
    "\n",
    "length = int(video.get(cv2.CAP_PROP_FRAME_COUNT))\n",
    "width = int(video.get(cv2.CAP_PROP_FRAME_WIDTH))\n",
    "height = int(video.get(cv2.CAP_PROP_FRAME_HEIGHT))\n",
    "fps = video.get(cv2.CAP_PROP_FPS)\n",
    "\n",
    "print(\"length :\", length)\n",
    "print(\"width :\", width)\n",
    "print(\"height :\", height)\n",
    "print(\"fps :\", fps)"
   ]
  },
  {
   "cell_type": "code",
   "execution_count": 3,
   "metadata": {},
   "outputs": [],
   "source": [
    "import os\n",
    "\n",
    "try:\n",
    "    if not os.path.exists(filepath[:-4]): # 동영상 이름과 같은 파일 존재 여부 확인\n",
    "        os.makedirs(filepath[:-4]) # filepath[:-4]: 현재 주어진 filepath에서 뒤에 파일 확장자를 제거하여 폴더로 생성하기 위함\n",
    "\n",
    "except OSError:\n",
    "    print ('Error: Creating directory. ' + filepath[:-4])"
   ]
  },
  {
   "cell_type": "code",
   "execution_count": null,
   "metadata": {},
   "outputs": [],
   "source": [
    "import cv2\n",
    "\n",
    "filepath = '/home/wani/yolov3/mydata/fall_down_pose/0hoon_fall/0hoon_fall.mp4'\n",
    "video = cv2.VideoCapture(filepath) #수정\n",
    "\n",
    "if not video.isOpened(): #video에 접근 가능한지 확인 -> True/False로 반환\n",
    "    print(\"Video is unavailable :\", filepath)\n",
    "    exit(0)\n",
    "\n",
    "##이미지 저장 파일 생성 코드 추가\n",
    "length = int(video.get(cv2.CAP_PROP_FRAME_COUNT))\n",
    "\n",
    "while(video.isOpened()):\n",
    "    ret, image = video.read() # while문을 돌면서 frame 단위로 image로 읽어옴\n",
    "\n",
    "    cv2.imwrite(filepath[:-4] + \"/frame%d.jpg\" % video.get(1), image) # 읽어온 image를 저장\n",
    "\n",
    "    print('Saved frame number :', str(int(video.get(1))))\n",
    "\n",
    "    if int(video.get(1)) == length: # 현재 프레임이 마지막 프레임에 도달하였을 때\n",
    "        video.release() # video를 로드하느라 사용한 메모리 할당을 해제하고\n",
    "        break # while문을 빠져나옴"
   ]
  },
  {
   "cell_type": "code",
   "execution_count": null,
   "metadata": {},
   "outputs": [],
   "source": [
    "# 이미지와 라벨의 수가 맞는지 확인\n",
    "from glob import glob\n",
    "\n",
    "img_list = glob('/home/wani/yolov3/mydata/fall_down_pose/0hoon_fall/images/*.jpg')\n",
    "label_list = glob('/home/wani/yolov3/mydata/fall_down_pose/0hoon_fall/labels/*.txt')\n",
    "\n",
    "print(len(img_list), len(label_list))"
   ]
  },
  {
   "cell_type": "code",
   "execution_count": null,
   "metadata": {},
   "outputs": [],
   "source": [
    "# train과 validation 데이터 나누기\n",
    "from sklearn.model_selection import train_test_split\n",
    "\n",
    "train_img_list, val_img_list = train_test_split(img_list, test_size = 0.3,\n",
    "random_state = 200)\n",
    "\n",
    "print(len(train_img_list), len(val_img_list))"
   ]
  },
  {
   "cell_type": "code",
   "execution_count": null,
   "metadata": {},
   "outputs": [],
   "source": [
    "from ultralytics import YOLO\n",
    "\n",
    "# YOLO 모델 로드\n",
    "model = YOLO(\"yolov8m-pose.pt\")\n",
    "\n",
    "# 훈련 시작\n",
    "model.train(data=\"/home/wani/yolov3/mydata/fall_down_pose/0hoon_fall/0hoon_fall.yaml\", epochs=50, imgsz=640, batch=8, project=\"/home/wani/yolov3/mydata/fall_down_pose/0hoon_fall\")"
   ]
  },
  {
   "cell_type": "code",
   "execution_count": null,
   "metadata": {},
   "outputs": [],
   "source": [
    "import os\n",
    "\n",
    "# 파일이 위치한 경로\n",
    "label_dir = '/home/wani/yolov3/mydata/fall_down_pose/0hoon_fall/labels/train'\n",
    "\n",
    "# 해당 디렉토리에서 \"notfall\"로 시작하는 텍스트 파일 찾기\n",
    "for filename in os.listdir(label_dir):\n",
    "    if filename.startswith('notfall') and filename.endswith('.txt'):  # \"notfall\"로 시작하는 .txt 파일 찾기\n",
    "        file_path = os.path.join(label_dir, filename)\n",
    "        \n",
    "        # 파일 열기 및 내용 읽기\n",
    "        with open(file_path, 'r') as file:\n",
    "            lines = file.readlines()\n",
    "        \n",
    "        # 클래스 ID를 변경\n",
    "        modified_lines = []\n",
    "        for line in lines:\n",
    "            parts = line.strip().split()\n",
    "            if parts:  # 라인이 비어있지 않다면\n",
    "                class_id = parts[0]\n",
    "                # 클래스 ID가 0이면 1로 변경\n",
    "                if class_id == '0':\n",
    "                    parts[0] = '1'\n",
    "                modified_lines.append(' '.join(parts))\n",
    "        \n",
    "        # 수정된 내용을 파일에 덮어쓰기\n",
    "        with open(file_path, 'w') as file:\n",
    "            for line in modified_lines:\n",
    "                file.write(line + '\\n')\n",
    "\n",
    "        print(f\"Updated: {file_path}\")  # 수정된 파일 출력"
   ]
  },
  {
   "cell_type": "code",
   "execution_count": null,
   "metadata": {},
   "outputs": [],
   "source": [
    "from ultralytics import YOLO\n",
    "\n",
    "# YOLO 모델 로드\n",
    "model = YOLO(\"yolov8m-pose.pt\")\n",
    "\n",
    "# 훈련 시작\n",
    "model.train(data=\"/home/wani/yolov3/mydata/fall_down_pose/0hoon_fall/0hoon_fall.yaml\", epochs=50, imgsz=640, batch=8, project=\"/home/wani/yolov3/mydata/fall_down_pose/0hoon_fall\")"
   ]
  }
 ],
 "metadata": {
  "kernelspec": {
   "display_name": "yolov3",
   "language": "python",
   "name": "python3"
  },
  "language_info": {
   "codemirror_mode": {
    "name": "ipython",
    "version": 3
   },
   "file_extension": ".py",
   "mimetype": "text/x-python",
   "name": "python",
   "nbconvert_exporter": "python",
   "pygments_lexer": "ipython3",
   "version": "3.10.12"
  }
 },
 "nbformat": 4,
 "nbformat_minor": 2
}
